{
 "cells": [
  {
   "cell_type": "code",
   "execution_count": 14,
   "metadata": {},
   "outputs": [
    {
     "data": {
      "text/plain": [
       "4.002321241180467"
      ]
     },
     "execution_count": 14,
     "metadata": {},
     "output_type": "execute_result"
    }
   ],
   "source": [
    "from statsmodels.formula.api import glm\n",
    "import pandas as pd\n",
    "import numpy as np\n",
    "import matplotlib.pyplot as plt\n",
    "import statsmodels.api as sm\n",
    "family= sm.families.Gaussian()\n",
    "from sklearn.model_selection import train_test_split\n",
    "#importing dataset and removing uncessary columns which cannot be really understood by the algorithm\n",
    "df = pd.read_excel('aggregate_ic.xlsx')\n",
    "df.drop('Sample No.',axis =1 ,inplace= True)\n",
    "X= df.drop('WSA',axis=1)\n",
    "X_train,X_test,y_train,y_test = train_test_split(X,df['WSA'],test_size=0.2)\n",
    "df= df.sample(frac=1)\n",
    "y_train.std()"
   ]
  },
  {
   "cell_type": "code",
   "execution_count": 3,
   "metadata": {},
   "outputs": [],
   "source": [
    "#declaring the model\n",
    "formula=\"WSA ~ Clay +Sand+ Silt + Bd + SOM + pH\"\n",
    "model= glm(formula = formula, data= df,family=family).fit()"
   ]
  },
  {
   "cell_type": "code",
   "execution_count": 4,
   "metadata": {},
   "outputs": [
    {
     "data": {
      "text/html": [
       "<table class=\"simpletable\">\n",
       "<caption>Generalized Linear Model Regression Results</caption>\n",
       "<tr>\n",
       "  <th>Dep. Variable:</th>          <td>WSA</td>       <th>  No. Observations:  </th>  <td>    73</td> \n",
       "</tr>\n",
       "<tr>\n",
       "  <th>Model:</th>                  <td>GLM</td>       <th>  Df Residuals:      </th>  <td>    67</td> \n",
       "</tr>\n",
       "<tr>\n",
       "  <th>Model Family:</th>        <td>Gaussian</td>     <th>  Df Model:          </th>  <td>     5</td> \n",
       "</tr>\n",
       "<tr>\n",
       "  <th>Link Function:</th>       <td>identity</td>     <th>  Scale:             </th> <td>  9.9426</td>\n",
       "</tr>\n",
       "<tr>\n",
       "  <th>Method:</th>                <td>IRLS</td>       <th>  Log-Likelihood:    </th> <td> -184.29</td>\n",
       "</tr>\n",
       "<tr>\n",
       "  <th>Date:</th>            <td>Sat, 07 May 2022</td> <th>  Deviance:          </th> <td>  666.15</td>\n",
       "</tr>\n",
       "<tr>\n",
       "  <th>Time:</th>                <td>09:49:37</td>     <th>  Pearson chi2:      </th>  <td>  666.</td> \n",
       "</tr>\n",
       "<tr>\n",
       "  <th>No. Iterations:</th>          <td>3</td>        <th>                     </th>     <td> </td>   \n",
       "</tr>\n",
       "<tr>\n",
       "  <th>Covariance Type:</th>     <td>nonrobust</td>    <th>                     </th>     <td> </td>   \n",
       "</tr>\n",
       "</table>\n",
       "<table class=\"simpletable\">\n",
       "<tr>\n",
       "      <td></td>         <th>coef</th>     <th>std err</th>      <th>z</th>      <th>P>|z|</th>  <th>[0.025</th>    <th>0.975]</th>  \n",
       "</tr>\n",
       "<tr>\n",
       "  <th>Intercept</th> <td>    0.0044</td> <td>    0.002</td> <td>    1.933</td> <td> 0.053</td> <td>-6.15e-05</td> <td>    0.009</td>\n",
       "</tr>\n",
       "<tr>\n",
       "  <th>Clay</th>      <td>    0.0242</td> <td>    0.132</td> <td>    0.183</td> <td> 0.855</td> <td>   -0.235</td> <td>    0.284</td>\n",
       "</tr>\n",
       "<tr>\n",
       "  <th>Sand</th>      <td>    0.3176</td> <td>    0.072</td> <td>    4.437</td> <td> 0.000</td> <td>    0.177</td> <td>    0.458</td>\n",
       "</tr>\n",
       "<tr>\n",
       "  <th>Silt</th>      <td>    0.0977</td> <td>    0.083</td> <td>    1.179</td> <td> 0.238</td> <td>   -0.065</td> <td>    0.260</td>\n",
       "</tr>\n",
       "<tr>\n",
       "  <th>Bd</th>        <td>    2.7019</td> <td>    2.978</td> <td>    0.907</td> <td> 0.364</td> <td>   -3.135</td> <td>    8.539</td>\n",
       "</tr>\n",
       "<tr>\n",
       "  <th>SOM</th>       <td>   -4.5656</td> <td>    3.027</td> <td>   -1.508</td> <td> 0.132</td> <td>  -10.499</td> <td>    1.368</td>\n",
       "</tr>\n",
       "<tr>\n",
       "  <th>pH</th>        <td>   -0.4093</td> <td>    0.516</td> <td>   -0.794</td> <td> 0.427</td> <td>   -1.420</td> <td>    0.602</td>\n",
       "</tr>\n",
       "</table>"
      ],
      "text/plain": [
       "<class 'statsmodels.iolib.summary.Summary'>\n",
       "\"\"\"\n",
       "                 Generalized Linear Model Regression Results                  \n",
       "==============================================================================\n",
       "Dep. Variable:                    WSA   No. Observations:                   73\n",
       "Model:                            GLM   Df Residuals:                       67\n",
       "Model Family:                Gaussian   Df Model:                            5\n",
       "Link Function:               identity   Scale:                          9.9426\n",
       "Method:                          IRLS   Log-Likelihood:                -184.29\n",
       "Date:                Sat, 07 May 2022   Deviance:                       666.15\n",
       "Time:                        09:49:37   Pearson chi2:                     666.\n",
       "No. Iterations:                     3                                         \n",
       "Covariance Type:            nonrobust                                         \n",
       "==============================================================================\n",
       "                 coef    std err          z      P>|z|      [0.025      0.975]\n",
       "------------------------------------------------------------------------------\n",
       "Intercept      0.0044      0.002      1.933      0.053   -6.15e-05       0.009\n",
       "Clay           0.0242      0.132      0.183      0.855      -0.235       0.284\n",
       "Sand           0.3176      0.072      4.437      0.000       0.177       0.458\n",
       "Silt           0.0977      0.083      1.179      0.238      -0.065       0.260\n",
       "Bd             2.7019      2.978      0.907      0.364      -3.135       8.539\n",
       "SOM           -4.5656      3.027     -1.508      0.132     -10.499       1.368\n",
       "pH            -0.4093      0.516     -0.794      0.427      -1.420       0.602\n",
       "==============================================================================\n",
       "\"\"\""
      ]
     },
     "execution_count": 4,
     "metadata": {},
     "output_type": "execute_result"
    }
   ],
   "source": [
    "model.summary()"
   ]
  },
  {
   "cell_type": "code",
   "execution_count": 6,
   "metadata": {},
   "outputs": [
    {
     "data": {
      "text/html": [
       "<div>\n",
       "<style scoped>\n",
       "    .dataframe tbody tr th:only-of-type {\n",
       "        vertical-align: middle;\n",
       "    }\n",
       "\n",
       "    .dataframe tbody tr th {\n",
       "        vertical-align: top;\n",
       "    }\n",
       "\n",
       "    .dataframe thead th {\n",
       "        text-align: right;\n",
       "    }\n",
       "</style>\n",
       "<table border=\"1\" class=\"dataframe\">\n",
       "  <thead>\n",
       "    <tr style=\"text-align: right;\">\n",
       "      <th></th>\n",
       "      <th>Intercept</th>\n",
       "      <th>Clay</th>\n",
       "      <th>Sand</th>\n",
       "      <th>Silt</th>\n",
       "      <th>Bd</th>\n",
       "      <th>SOM</th>\n",
       "      <th>pH</th>\n",
       "    </tr>\n",
       "  </thead>\n",
       "  <tbody>\n",
       "    <tr>\n",
       "      <th>Intercept</th>\n",
       "      <td>0.000005</td>\n",
       "      <td>0.000236</td>\n",
       "      <td>0.000120</td>\n",
       "      <td>0.000161</td>\n",
       "      <td>-0.005342</td>\n",
       "      <td>-0.000259</td>\n",
       "      <td>-0.000713</td>\n",
       "    </tr>\n",
       "    <tr>\n",
       "      <th>Clay</th>\n",
       "      <td>0.000236</td>\n",
       "      <td>0.017536</td>\n",
       "      <td>0.001799</td>\n",
       "      <td>0.004237</td>\n",
       "      <td>-0.156680</td>\n",
       "      <td>-0.015684</td>\n",
       "      <td>-0.028138</td>\n",
       "    </tr>\n",
       "    <tr>\n",
       "      <th>Sand</th>\n",
       "      <td>0.000120</td>\n",
       "      <td>0.001799</td>\n",
       "      <td>0.005123</td>\n",
       "      <td>0.005052</td>\n",
       "      <td>-0.171029</td>\n",
       "      <td>0.011711</td>\n",
       "      <td>-0.017268</td>\n",
       "    </tr>\n",
       "    <tr>\n",
       "      <th>Silt</th>\n",
       "      <td>0.000161</td>\n",
       "      <td>0.004237</td>\n",
       "      <td>0.005052</td>\n",
       "      <td>0.006860</td>\n",
       "      <td>-0.206530</td>\n",
       "      <td>-0.021894</td>\n",
       "      <td>-0.025910</td>\n",
       "    </tr>\n",
       "    <tr>\n",
       "      <th>Bd</th>\n",
       "      <td>-0.005342</td>\n",
       "      <td>-0.156680</td>\n",
       "      <td>-0.171029</td>\n",
       "      <td>-0.206530</td>\n",
       "      <td>8.869136</td>\n",
       "      <td>-0.693949</td>\n",
       "      <td>0.240038</td>\n",
       "    </tr>\n",
       "    <tr>\n",
       "      <th>SOM</th>\n",
       "      <td>-0.000259</td>\n",
       "      <td>-0.015684</td>\n",
       "      <td>0.011711</td>\n",
       "      <td>-0.021894</td>\n",
       "      <td>-0.693949</td>\n",
       "      <td>9.165129</td>\n",
       "      <td>-0.076660</td>\n",
       "    </tr>\n",
       "    <tr>\n",
       "      <th>pH</th>\n",
       "      <td>-0.000713</td>\n",
       "      <td>-0.028138</td>\n",
       "      <td>-0.017268</td>\n",
       "      <td>-0.025910</td>\n",
       "      <td>0.240038</td>\n",
       "      <td>-0.076660</td>\n",
       "      <td>0.266017</td>\n",
       "    </tr>\n",
       "  </tbody>\n",
       "</table>\n",
       "</div>"
      ],
      "text/plain": [
       "           Intercept      Clay      Sand      Silt        Bd       SOM  \\\n",
       "Intercept   0.000005  0.000236  0.000120  0.000161 -0.005342 -0.000259   \n",
       "Clay        0.000236  0.017536  0.001799  0.004237 -0.156680 -0.015684   \n",
       "Sand        0.000120  0.001799  0.005123  0.005052 -0.171029  0.011711   \n",
       "Silt        0.000161  0.004237  0.005052  0.006860 -0.206530 -0.021894   \n",
       "Bd         -0.005342 -0.156680 -0.171029 -0.206530  8.869136 -0.693949   \n",
       "SOM        -0.000259 -0.015684  0.011711 -0.021894 -0.693949  9.165129   \n",
       "pH         -0.000713 -0.028138 -0.017268 -0.025910  0.240038 -0.076660   \n",
       "\n",
       "                 pH  \n",
       "Intercept -0.000713  \n",
       "Clay      -0.028138  \n",
       "Sand      -0.017268  \n",
       "Silt      -0.025910  \n",
       "Bd         0.240038  \n",
       "SOM       -0.076660  \n",
       "pH         0.266017  "
      ]
     },
     "execution_count": 6,
     "metadata": {},
     "output_type": "execute_result"
    }
   ],
   "source": [
    "#covariance\n",
    "model.cov_params()"
   ]
  },
  {
   "cell_type": "code",
   "execution_count": null,
   "metadata": {},
   "outputs": [],
   "source": [
    "#prediction & target\n",
    "pred = np.array(model.predict(exog=df))\n",
    "target = np.array(df['WSA'])\n"
   ]
  },
  {
   "cell_type": "code",
   "execution_count": null,
   "metadata": {},
   "outputs": [
    {
     "name": "stdout",
     "output_type": "stream",
     "text": [
      "The coefficient of determination is 0.41465730829630776\n",
      "Mean Absolute Error is 2.4053051393471288\n",
      "RMSE Value is 3.0208253723142073\n",
      "Adjusted R^2 is 0.35162040303591013\n"
     ]
    }
   ],
   "source": [
    "#metrics\n",
    "from sklearn.metrics import r2_score, mean_absolute_error\n",
    "r2 = r2_score(target,pred)\n",
    "print(\"The coefficient of determination is \"+str(r2))\n",
    "\n",
    "mae = mean_absolute_error(target,pred)\n",
    "print(\"Mean Absolute Error is \" +  str(mae))\n",
    "\n",
    "# self made rmse function \n",
    "def rmse(predictions, targets):\n",
    "    return np.sqrt(((predictions - targets) ** 2).mean())\n",
    "\n",
    "rmse_value = rmse(pred,target)\n",
    "print(\"RMSE Value is \"+str(rmse_value))\n",
    "\n",
    "#adjusted R^2\n",
    "n= 73\n",
    "p=7\n",
    "x= 1-r2\n",
    "y=(n-1)/(n-p-1)\n",
    "\n",
    "adj_r2= 1-(x*y)\n",
    "\n",
    "print('Adjusted R^2 is '+str(adj_r2))"
   ]
  },
  {
   "cell_type": "code",
   "execution_count": null,
   "metadata": {},
   "outputs": [
    {
     "data": {
      "image/png": "[encoded data removed]",
      "text/plain": [
       "<Figure size 432x288 with 1 Axes>"
      ]
     },
     "metadata": {
      "needs_background": "light"
     },
     "output_type": "display_data"
    }
   ],
   "source": [
    "#final graph with predictions and Target Values\n",
    "fig , ax= plt.subplots()\n",
    "index= list(range(len(pred)))\n",
    "ax.set_xlabel(\"Index\")\n",
    "ax.set_ylabel(\"WSA %\")\n",
    "\n",
    "pred_target=pd.DataFrame(list(zip(pred,target)))\n",
    "pred_target.head()\n",
    "pred_target.sort_values(by=0,inplace = True)\n",
    "plt.plot(index,pred_target[0],c='blue',label= \"Prediction\")\n",
    "plt.scatter(index,pred_target[1],c='red',label='Target')\n",
    "plt.legend(loc='upper left',frameon = False)\n",
    "plt.show(fig)\n",
    "fig.savefig('glm.svg',dpi=1600)\n"
   ]
  },
  {
   "cell_type": "code",
   "execution_count": null,
   "metadata": {},
   "outputs": [],
   "source": []
  }
 ],
 "metadata": {
  "interpreter": {
   "hash": "b302cdd1e032ee910f5c889c3360c28564c92ad4f326fc3102e39fbe47faee66"
  },
  "kernelspec": {
   "display_name": "Python 3.8.8 ('base')",
   "language": "python",
   "name": "python3"
  },
  "language_info": {
   "codemirror_mode": {
    "name": "ipython",
    "version": 3
   },
   "file_extension": ".py",
   "mimetype": "text/x-python",
   "name": "python",
   "nbconvert_exporter": "python",
   "pygments_lexer": "ipython3",
   "version": "3.8.8"
  },
  "orig_nbformat": 4
 },
 "nbformat": 4,
 "nbformat_minor": 2
}
